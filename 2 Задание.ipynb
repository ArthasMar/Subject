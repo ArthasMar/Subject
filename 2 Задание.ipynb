{
  "nbformat": 4,
  "nbformat_minor": 0,
  "metadata": {
    "colab": {
      "name": "Welcome To Colaboratory",
      "provenance": [],
      "collapsed_sections": [],
      "toc_visible": true,
      "include_colab_link": true
    },
    "kernelspec": {
      "display_name": "Python 3",
      "name": "python3"
    }
  },
  "cells": [
    {
      "cell_type": "markdown",
      "metadata": {
        "id": "view-in-github",
        "colab_type": "text"
      },
      "source": [
        "<a href=\"https://colab.research.google.com/github/ArthasMar/Subject/blob/main/2%20%D0%97%D0%B0%D0%B4%D0%B0%D0%BD%D0%B8%D0%B5.ipynb\" target=\"_parent\"><img src=\"https://colab.research.google.com/assets/colab-badge.svg\" alt=\"Open In Colab\"/></a>"
      ]
    },
    {
      "cell_type": "code",
      "metadata": {
        "id": "h12K10Sdma4E"
      },
      "source": [
        "import matplotlib\n",
        "import matplotlib.pyplot as plt\n",
        "\n",
        "def plot(pol, a, b):\n",
        "  n = 1000\n",
        "  dx = (b - a) / n\n",
        "  X, Y = [], []\n",
        "  for i in range(n + 1):\n",
        "    x = a + dx * i\n",
        "    y = pol.evalf(x)\n",
        "    X.append(x)\n",
        "    Y.append(y)\n",
        "  \n",
        "  fig, ax = plt.subplots(figsize=(12, 9))\n",
        "  ax.plot(X, Y, color=\"red\", lw=5)\n",
        "  plt.show()\n",
        "\n",
        "\n",
        "\n",
        "class Polynimial:\n",
        "    def __init__(self,array=[]):\n",
        "        self.array=array\n",
        "    def __str__ (self):\n",
        "        s=\" \"\n",
        "        for i in range(len(self.array)-1,1,-1):\n",
        "            if (self.array[i]>1 or self.array[i]<1) and self.array[i]!=0:\n",
        "                s+=str(self.array[i])+\"*x^\"+str(i)\n",
        "            elif self.array[i]==1:\n",
        "                s+=\"x^\"+ str(i)\n",
        "            if self.array[i-1]>0 and self.array[i]!=0:\n",
        "                s+=\"+\"\n",
        "        if self.array[1]!=0 and self.array[1]!=1:\n",
        "            s+=str(self.array[1])+\"*x\"\n",
        "        elif self.array[1]==1:\n",
        "            s+=\"x\"\n",
        "        if self.array[0]>0:\n",
        "            s+=\"+\" + str(self.array[0])\n",
        "        elif self.array[0]<0:\n",
        "            s+=\"-\" + str(abs(self.array[0]))\n",
        "        return s\n",
        "    def __add__(self, p):\n",
        "        a = self.array\n",
        "        b = p.array\n",
        "        if len(a) < len(b):\n",
        "            a += [0] * (len(b) - len(a))\n",
        "        else:\n",
        "            b += [0] * (len(a) - len(b))\n",
        "        return Polynimial([a[i] + b[i] for i in range(len(a))])\n",
        "    def __sub__(self, p):\n",
        "        a = self.array\n",
        "        b = p.array\n",
        "        if len(a) < len(b):\n",
        "            a += [0] * (len(b) - len(a))\n",
        "        else:\n",
        "            b += [0] * (len(a) - len(b))\n",
        "        return Polynimial([a[i] - b[i] for i in range(len(a))])\n",
        "    def diff(self):\n",
        "        b=[]\n",
        "        for i in range (1,len(self.array)):\n",
        "            b.append(self.array[i]*i)\n",
        "        return Polynimial(b)\n",
        "    def toLatex(self):\n",
        "        s = \" \"\n",
        "        for i in range(len(self.array)-1,1,-1):\n",
        "            if (self.array[i]>1 or self.array[i]<1) and self.array[i]!=0:\n",
        "                s+=str(self.array[i])+\"x^\"+str(i)\n",
        "            elif self.array[i]==1:\n",
        "                 s+=\"x^\"+ str(i)\n",
        "            if self.array[i-1]>0 and self.array[i]!=0:\n",
        "                 s+=\"+\"\n",
        "        if self.array[1]!=0 and self.array[1]!=1:\n",
        "             s+=str(self.array[1])+\"x\"\n",
        "        elif self.array[1]==1:\n",
        "             s+=\"x\"\n",
        "        if self.array[0]>0:\n",
        "             s+=\"+\" + str(self.array[0])\n",
        "        elif self.array[0]<0:\n",
        "             s+=\"-\" + str(abs(self.array[0]))\n",
        "        display(Math(s))\n",
        "    def show(self):\n",
        "        display(Math(str(self)))\n",
        "    def evalf(self,count):\n",
        "        z=0\n",
        "        for i in range(len(self.array)-1,0,-1):\n",
        "             z+=self.array[i]*(count**i)\n",
        "        z+=self.array[0]\n",
        "        return z"
      ],
      "execution_count": 1,
      "outputs": []
    },
    {
      "cell_type": "code",
      "metadata": {
        "colab": {
          "base_uri": "https://localhost:8080/",
          "height": 346
        },
        "id": "1tJLRC6GmiD-",
        "outputId": "303349ab-28f1-4e16-a255-61352249e6b4"
      },
      "source": [
        "p=Polynimial([1,2,3,4,5,6,7])\n",
        "p.toLatex()\n",
        "p.show()\n",
        "print(Polynimial.evalf(p,2))\n",
        "\n",
        "plot(p, -20, 20)"
      ],
      "execution_count": 2,
      "outputs": [
        {
          "output_type": "error",
          "ename": "NameError",
          "evalue": "ignored",
          "traceback": [
            "\u001b[0;31m---------------------------------------------------------------------------\u001b[0m",
            "\u001b[0;31mNameError\u001b[0m                                 Traceback (most recent call last)",
            "\u001b[0;32m<ipython-input-2-9e503d80c381>\u001b[0m in \u001b[0;36m<module>\u001b[0;34m()\u001b[0m\n\u001b[1;32m      1\u001b[0m \u001b[0mp\u001b[0m\u001b[0;34m=\u001b[0m\u001b[0mPolynimial\u001b[0m\u001b[0;34m(\u001b[0m\u001b[0;34m[\u001b[0m\u001b[0;36m1\u001b[0m\u001b[0;34m,\u001b[0m\u001b[0;36m2\u001b[0m\u001b[0;34m,\u001b[0m\u001b[0;36m3\u001b[0m\u001b[0;34m,\u001b[0m\u001b[0;36m4\u001b[0m\u001b[0;34m,\u001b[0m\u001b[0;36m5\u001b[0m\u001b[0;34m,\u001b[0m\u001b[0;36m6\u001b[0m\u001b[0;34m,\u001b[0m\u001b[0;36m7\u001b[0m\u001b[0;34m]\u001b[0m\u001b[0;34m)\u001b[0m\u001b[0;34m\u001b[0m\u001b[0;34m\u001b[0m\u001b[0m\n\u001b[0;32m----> 2\u001b[0;31m \u001b[0mp\u001b[0m\u001b[0;34m.\u001b[0m\u001b[0mtoLatex\u001b[0m\u001b[0;34m(\u001b[0m\u001b[0;34m)\u001b[0m\u001b[0;34m\u001b[0m\u001b[0;34m\u001b[0m\u001b[0m\n\u001b[0m\u001b[1;32m      3\u001b[0m \u001b[0mp\u001b[0m\u001b[0;34m.\u001b[0m\u001b[0mshow\u001b[0m\u001b[0;34m(\u001b[0m\u001b[0;34m)\u001b[0m\u001b[0;34m\u001b[0m\u001b[0;34m\u001b[0m\u001b[0m\n\u001b[1;32m      4\u001b[0m \u001b[0mprint\u001b[0m\u001b[0;34m(\u001b[0m\u001b[0mPolynimial\u001b[0m\u001b[0;34m.\u001b[0m\u001b[0mevalf\u001b[0m\u001b[0;34m(\u001b[0m\u001b[0mp\u001b[0m\u001b[0;34m,\u001b[0m\u001b[0;36m2\u001b[0m\u001b[0;34m)\u001b[0m\u001b[0;34m)\u001b[0m\u001b[0;34m\u001b[0m\u001b[0;34m\u001b[0m\u001b[0m\n\u001b[1;32m      5\u001b[0m \u001b[0;34m\u001b[0m\u001b[0m\n",
            "\u001b[0;32m<ipython-input-1-056682d58418>\u001b[0m in \u001b[0;36mtoLatex\u001b[0;34m(self)\u001b[0m\n\u001b[1;32m     77\u001b[0m         \u001b[0;32melif\u001b[0m \u001b[0mself\u001b[0m\u001b[0;34m.\u001b[0m\u001b[0marray\u001b[0m\u001b[0;34m[\u001b[0m\u001b[0;36m0\u001b[0m\u001b[0;34m]\u001b[0m\u001b[0;34m<\u001b[0m\u001b[0;36m0\u001b[0m\u001b[0;34m:\u001b[0m\u001b[0;34m\u001b[0m\u001b[0;34m\u001b[0m\u001b[0m\n\u001b[1;32m     78\u001b[0m              \u001b[0ms\u001b[0m\u001b[0;34m+=\u001b[0m\u001b[0;34m\"-\"\u001b[0m \u001b[0;34m+\u001b[0m \u001b[0mstr\u001b[0m\u001b[0;34m(\u001b[0m\u001b[0mabs\u001b[0m\u001b[0;34m(\u001b[0m\u001b[0mself\u001b[0m\u001b[0;34m.\u001b[0m\u001b[0marray\u001b[0m\u001b[0;34m[\u001b[0m\u001b[0;36m0\u001b[0m\u001b[0;34m]\u001b[0m\u001b[0;34m)\u001b[0m\u001b[0;34m)\u001b[0m\u001b[0;34m\u001b[0m\u001b[0;34m\u001b[0m\u001b[0m\n\u001b[0;32m---> 79\u001b[0;31m         \u001b[0mdisplay\u001b[0m\u001b[0;34m(\u001b[0m\u001b[0mMath\u001b[0m\u001b[0;34m(\u001b[0m\u001b[0ms\u001b[0m\u001b[0;34m)\u001b[0m\u001b[0;34m)\u001b[0m\u001b[0;34m\u001b[0m\u001b[0;34m\u001b[0m\u001b[0m\n\u001b[0m\u001b[1;32m     80\u001b[0m     \u001b[0;32mdef\u001b[0m \u001b[0mshow\u001b[0m\u001b[0;34m(\u001b[0m\u001b[0mself\u001b[0m\u001b[0;34m)\u001b[0m\u001b[0;34m:\u001b[0m\u001b[0;34m\u001b[0m\u001b[0;34m\u001b[0m\u001b[0m\n\u001b[1;32m     81\u001b[0m         \u001b[0mdisplay\u001b[0m\u001b[0;34m(\u001b[0m\u001b[0mMath\u001b[0m\u001b[0;34m(\u001b[0m\u001b[0mstr\u001b[0m\u001b[0;34m(\u001b[0m\u001b[0mself\u001b[0m\u001b[0;34m)\u001b[0m\u001b[0;34m)\u001b[0m\u001b[0;34m)\u001b[0m\u001b[0;34m\u001b[0m\u001b[0;34m\u001b[0m\u001b[0m\n",
            "\u001b[0;31mNameError\u001b[0m: name 'Math' is not defined"
          ]
        }
      ]
    }
  ]
}