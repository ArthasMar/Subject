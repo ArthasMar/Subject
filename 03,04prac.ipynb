{
  "nbformat": 4,
  "nbformat_minor": 0,
  "metadata": {
    "colab": {
      "name": "Welcome To Colaboratory",
      "provenance": [],
      "collapsed_sections": [],
      "toc_visible": true,
      "include_colab_link": true
    },
    "kernelspec": {
      "display_name": "Python 3",
      "name": "python3"
    }
  },
  "cells": [
    {
      "cell_type": "markdown",
      "metadata": {
        "id": "view-in-github",
        "colab_type": "text"
      },
      "source": [
        "<a href=\"https://colab.research.google.com/github/ArthasMar/Subject/blob/main/03%2C04prac.ipynb\" target=\"_parent\"><img src=\"https://colab.research.google.com/assets/colab-badge.svg\" alt=\"Open In Colab\"/></a>"
      ]
    },
    {
      "cell_type": "code",
      "metadata": {
        "id": "kt8KiWlzJqMK"
      },
      "source": [
        "import math\n",
        "from IPython.display import display, Math"
      ],
      "execution_count": 1,
      "outputs": []
    },
    {
      "cell_type": "code",
      "metadata": {
        "id": "RLOabP-kJuRv"
      },
      "source": [
        "def check(x):\n",
        "  if isinstance(x, Expression):\n",
        "    return x\n",
        "  return Expression(x)"
      ],
      "execution_count": 2,
      "outputs": []
    },
    {
      "cell_type": "code",
      "metadata": {
        "id": "Fl1dAq_WJvdq"
      },
      "source": [
        "def fsqrt(x):\n",
        "  return ['sqrt', x]\n",
        "\n",
        "def fsin(x):\n",
        "  return ['sin', x]\n",
        "\n",
        "def fcos(x):\n",
        "  return ['cos', x]\n",
        "\n",
        "def ftan(x):\n",
        "  return ['tan', x]\n",
        "\n",
        "def farcsin(x):\n",
        "  return ['arcsin', x]\n",
        "\n",
        "def farccos(x):\n",
        "  return ['arccos', x]\n",
        "\n",
        "def farctan(x):\n",
        "  return ['arctan', x]\n",
        "\n",
        "def fsinh(x):\n",
        "  return ['sinh', x]\n",
        "\n",
        "def fcosh(x):\n",
        "  return ['cosh', x]\n",
        "\n",
        "def ftanh(x):\n",
        "  return ['tanh', x]\n",
        "\n",
        "def add(x, y):\n",
        "  return ['+', x, y]\n",
        "\n",
        "def mul(x, y):\n",
        "  return ['*', x, y]\n",
        "\n",
        "def div(x, y):\n",
        "  return ['/', x, y]\n",
        "\n",
        "def sub(x, y):\n",
        "  return ['-', x, y]\n",
        "\n",
        "def fpow(x, y):\n",
        "  return ['^', x, y]\n",
        "\n",
        "def fln(x):\n",
        "  return['ln', x]\n",
        "\n",
        "def flg(x):\n",
        "  return['lg', x]\n",
        "\n",
        "def flog(x, y):\n",
        "  return['log', x, y]\n",
        "\n",
        "def fabs(x):\n",
        "  return['abs', x]\n",
        "\n",
        "def neg(x):\n",
        "  return [\"--\", x]"
      ],
      "execution_count": 3,
      "outputs": []
    },
    {
      "cell_type": "code",
      "metadata": {
        "id": "3tbc2fQCJyyX"
      },
      "source": [
        "def evaluate(f):\n",
        "  if isinstance(f, (int, float)):\n",
        "    return f\n",
        "  elif isinstance(f, list):\n",
        "    if f[0] == '+': \n",
        "      return evaluate(f[1]) + evaluate(f[2])\n",
        "    elif f[0] == '-':\n",
        "      return evaluate(f[1]) - evaluate(f[2])\n",
        "    elif f[0] == '*':\n",
        "      return evaluate(f[1]) * evaluate(f[2])\n",
        "    elif f[0] == '/':\n",
        "      return evaluate(f[1]) / evaluate(f[2])\n",
        "    elif f[0] == '^':\n",
        "      return evaluate(f[1]) ** evaluate(f[2])\n",
        "    elif f[0] == 'sqrt':\n",
        "      return math.sqrt(evaluate(f[1]))\n",
        "    elif f[0] == 'ln':\n",
        "      return math.log1p(evaluate(f[1]))\n",
        "    elif f[0] == 'lg':\n",
        "      return math.log10(evaluate(f[1]))\n",
        "    elif f[0] == 'log':\n",
        "      return math.log(evaluate(f[1]), evaluate(f[2]))\n",
        "    elif f[0] == 'abs':\n",
        "      return math.fabs(evaluate(f[1]))\n",
        "    elif f[0] == 'sin':\n",
        "      return math.sin(evaluate(f[1]))\n",
        "    elif f[0] == 'cos':\n",
        "      return math.cos(evaluate(f[1]))\n",
        "    elif f[0] == 'tan':\n",
        "      return math.tan(evaluate(f[1]))\n",
        "    elif f[0] == 'arcsin':\n",
        "      return math.asin(evaluate(f[1]))\n",
        "    elif f[0] == 'arccos':\n",
        "      return math.acos(evaluate(f[1]))\n",
        "    elif f[0] == 'arctan':\n",
        "      return math.atan(evaluate(f[1]))\n",
        "    elif f[0] == 'sinh':\n",
        "      return math.sinh(evaluate(f[1]))\n",
        "    elif f[0] == 'cosh':\n",
        "      return math.cosh(evaluate(f[1]))\n",
        "    elif f[0] == 'tanh':\n",
        "      return math.tanh(evaluate(f[1]))\n",
        "    elif f == 'exp':\n",
        "      return math.exp(1)\n",
        "    elif f == 'pi':\n",
        "      return math.pi\n",
        "  return None"
      ],
      "execution_count": 4,
      "outputs": []
    },
    {
      "cell_type": "code",
      "metadata": {
        "id": "vkDRKe0pJ2Fp"
      },
      "source": [
        "def substitute(f, var, val):\n",
        "  val = check(val).f\n",
        "  if f == var:\n",
        "    return val\n",
        "  elif isinstance(f, list):\n",
        "    y = [f[0]]\n",
        "    for i in range(1, len(f)):\n",
        "      t = substitute(f[i], var, val)\n",
        "      y.append(t)\n",
        "    return y\n",
        "  else:\n",
        "    return f"
      ],
      "execution_count": 5,
      "outputs": []
    },
    {
      "cell_type": "code",
      "metadata": {
        "id": "cjTrsulOJ4dX"
      },
      "source": [
        "def expr2latex(x):\n",
        "  if x == 'pi' or x == 'infty':\n",
        "    return '\\\\' + x\n",
        "\n",
        "  if isinstance(x, (int, float)):\n",
        "    return str(x)\n",
        "  if isinstance(x, str):\n",
        "    return x\n",
        "  if isinstance(x, list):\n",
        "    if x[0] == \"+\":\n",
        "      return expr2latex(x[1]) + \"+\" + expr2latex(x[2])\n",
        "\n",
        "    if x[0] == \"-\":\n",
        "      return expr2latex(x[1]) + \"-\" + expr2latex(x[2])\n",
        "\n",
        "    if x[0] == \"*\":\n",
        "      left = expr2latex(x[1])\n",
        "      if isinstance(x[1], list) and x[1][0] == \"+\":\n",
        "        left = \"\\\\left(\" + left + \"\\\\right)\"\n",
        "      right = expr2latex(x[2])\n",
        "      if isinstance(x[2], list) and x[2][0] == \"+\":\n",
        "        right = \"\\\\left(\" + right + \"\\\\right)\"\n",
        "      return left + \"\\\\cdot \" + right\n",
        "\n",
        "    if x[0] == \"/\":\n",
        "      return \"\\\\dfrac{\" + expr2latex(x[1]) + \"}{\" + expr2latex(x[2]) + \"}\"\n",
        "\n",
        "    if x[0] == \"^\":\n",
        "      left = expr2latex(x[1])\n",
        "      if isinstance(x[1], list):\n",
        "        left = \"\\\\left(\" + left + \"\\\\right)\"\n",
        "      right = expr2latex(x[2])\n",
        "      return \"{\" + left + \"}^{\" + right + \"}\"\n",
        "\n",
        "    if x[0] == \"sqrt\":\n",
        "      return \"\\\\sqrt{\" + expr2latex(x[1]) + \"}\"\n",
        "\n",
        "    if x[0] == \"ln\":\n",
        "      a = expr2latex(x[1])\n",
        "      if isinstance(x[1], list):\n",
        "        a = \"\\\\left(\" + a + \"\\\\right)\"\n",
        "      return \"\\\\ln{\" + a + \"}\"\n",
        "\n",
        "    if x[0] == \"lg\":\n",
        "      return \"\\\\lg{\" + expr2latex(x[1]) + \"}\"\n",
        "\n",
        "    if x[0] == \"log\":\n",
        "      return \"\\\\log _{\" + expr2latex(x[2]) + \"} \" + expr2latex(x[1])\n",
        "\n",
        "    if x[0] == \"abs\":\n",
        "      return \"\\\\lvert{\" + expr2latex(x[1]) + \"}\\\\rvert\"\n",
        "\n",
        "    if x[0] == \"sin\" or x[0] == \"cos\" or x[0] == \"tan\" or x[0] == \"arcsin\" or x[0] == \"arccos\" or x[0] == \"arctan\" or x[0] == \"sinh\" or x[0] == \"cosh\" or x[0] == \"tanh\":\n",
        "      a = expr2latex(x[1])\n",
        "      if isinstance(x[1], list):\n",
        "        a = \"\\\\left(\" + a + \"\\\\right)\"\n",
        "      return \"\\\\\" + x[0] + \"{\" + expr2latex(x[1]) + \"}\"\n",
        "      \n",
        "    if x[0] == \"--\":\n",
        "      a = expr2latex(x[1])\n",
        "      if isinstance(x[1], list):\n",
        "        a = \"\\\\left(\" + a + \"\\\\right)\"\n",
        "      return \"-{\" + a + \"}\""
      ],
      "execution_count": 6,
      "outputs": []
    },
    {
      "cell_type": "code",
      "metadata": {
        "id": "dWjQe97lJ7x9"
      },
      "source": [
        "operators = ['+', '*', '-', '/', '^', 'sqrt', 'ln', 'lg', 'log', 'abs', \n",
        " 'sin', 'cos', 'tan', 'arcsin', 'arccos', 'arctan', 'sinh', 'cosh', 'tanh']\n",
        "\n",
        "const = ['exp', 'pi']\n",
        "\n",
        "def isconstant(f):\n",
        "  if isinstance(f, list):\n",
        "    for i in f:\n",
        "      if isconstant(i) == False:\n",
        "        return False\n",
        "\n",
        "  elif isinstance(f, (int, float)):\n",
        "    return True\n",
        "\n",
        "  elif f in operators:\n",
        "    return True\n",
        "\n",
        "  elif f in const:\n",
        "    return True\n",
        "\n",
        "  else:\n",
        "    return False\n",
        "\n",
        "  return True"
      ],
      "execution_count": 7,
      "outputs": []
    },
    {
      "cell_type": "code",
      "metadata": {
        "id": "_oYBLe5sJ-Xt"
      },
      "source": [
        "def differentiate(f, x):\n",
        "  if isinstance(f, int):\n",
        "    return 0\n",
        "\n",
        "  if f == x:\n",
        "    return 1\n",
        "\n",
        "  if isinstance(f, str):\n",
        "    return 0\n",
        "\n",
        "  if isinstance(f, list):\n",
        "    if f[0] == \"+\":\n",
        "      u, v = f[1], f[2]\n",
        "      u1, v1 = differentiate(u, x), differentiate(v, x)\n",
        "      return add(u1, v1)\n",
        "\n",
        "    if f[0] == \"-\":\n",
        "      u, v = f[1], f[2]\n",
        "      u1, v1 = differentiate(u, x), differentiate(v, x)\n",
        "      return sub(u1, v1)      \n",
        "\n",
        "    if f[0] == \"*\":\n",
        "      u, v = f[1], f[2]\n",
        "      u1, v1 = differentiate(u, x), differentiate(v, x)\n",
        "      return add(mul(u1, v), mul(u, v1)) \n",
        "\n",
        "    if f[0] == \"/\":\n",
        "      u, v = f[1], f[2]\n",
        "      u1, v1 = differentiate(u, x), differentiate(v, x)\n",
        "      return div(sub(mul(u1, v), mul(u, v1)), fpow(v, 2)) \n",
        "\n",
        "    if f[0] == \"^\":\n",
        "      u, v = f[1], f[2]\n",
        "      u1, v1 = differentiate(u, x), differentiate(v, x)\n",
        "      p1, p2 = fpow(u, v), fpow(u, sub(v, 1))\n",
        "      s1 = mul(p1, mul(v1, fln(u)))\n",
        "      s2 = mul(v, mul(p2, u1))\n",
        "      return add(s1, s2) \n",
        "\n",
        "    if f[0] == \"--\":\n",
        "      u = f[1]\n",
        "      u1 = differentiate(u, x)\n",
        "      return neg(u1)\n",
        "\n",
        "    if f[0] == \"ln\":\n",
        "      u = f[1]\n",
        "      u1 = differentiate(u, x)\n",
        "      return div(u1, u)\n",
        "\n",
        "    if f[0] == \"log\":\n",
        "      u = f[1]\n",
        "      a = f[2]\n",
        "      u1 = differentiate(u, x)\n",
        "      return div(u1, mul(u, fln(a)))\n",
        "\n",
        "    if f[0] == \"lg\":\n",
        "      u = f[1]\n",
        "      u1 = differentiate(u, x)\n",
        "      return div(u1, mul(u, fln(10)))\n",
        "\n",
        "    if f[0] == \"sqrt\":\n",
        "      u = f[1]\n",
        "      u1 = differentiate(u, x)\n",
        "      return div(u1, mul(2, fsqrt(u)))\n",
        "\n",
        "    if f[0] == \"sin\":\n",
        "      u = f[1]\n",
        "      u1 = differentiate(u, x)\n",
        "      return mul(fcos(u), u1)\n",
        "\n",
        "    if f[0] == \"cos\":\n",
        "      u = f[1]\n",
        "      u1 = differentiate(u, x)\n",
        "      return mul(neg(fsin(u)), u1)\n",
        "\n",
        "    if f[0] == \"tan\":\n",
        "      u = f[1]\n",
        "      u1 = differentiate(u, x)\n",
        "      return mul(div(1, fpow(fcos(u), 2)), u1)\n",
        "\n",
        "    if f[0] == \"arcsin\":\n",
        "      u = f[1]\n",
        "      u1 = differentiate(u, x)\n",
        "      return mul(div(1, fsqrt(sub(1,fpow(u, 2)))), u1)\n",
        "\n",
        "    if f[0] == \"arccos\":\n",
        "      u = f[1]\n",
        "      u1 = differentiate(u, x)\n",
        "      return neg(mul(div(1, fsqrt(sub(1,fpow(u, 2)))), u1))\n",
        "\n",
        "    if f[0] == \"arctan\":\n",
        "      u = f[1]\n",
        "      u1 = differentiate(u, x)\n",
        "      return mul(div(1, add(1,fpow(u, 2))), u1)\n",
        "\n",
        "    if f[0] == \"sinh\":\n",
        "      u = f[1]\n",
        "      u1 = differentiate(u, x)\n",
        "      return mul(fcosh(u), u1)\n",
        "\n",
        "    if f[0] == \"cosh\":\n",
        "      u = f[1]\n",
        "      u1 = differentiate(u, x)\n",
        "      return mul(fsinh(u), u1)\n",
        "\n",
        "    if f[0] == \"tanh\":\n",
        "      u = f[1]\n",
        "      u1 = differentiate(u, x)\n",
        "      return mul(div(1, fpow(fcosh(u), 2)), u1)"
      ],
      "execution_count": 8,
      "outputs": []
    },
    {
      "cell_type": "code",
      "metadata": {
        "id": "vpCp0jjkKcPf"
      },
      "source": [
        "#Задание 5\n",
        "\n",
        "def simplify(f):\n",
        "  if isinstance(f, list):\n",
        "    r = [f[0]]\n",
        "    for x in f[1:]:\n",
        "      r.append(simplify(x))\n",
        "\n",
        "    if r[0] == \"+\":\n",
        "      if isinstance(r[1], int) and isinstance(r[2], int):\n",
        "        return r[1] + r[2] \n",
        "      if r[1] == 0: \n",
        "        return r[2]\n",
        "      if r[2] == 0:\n",
        "        return r[1]\n",
        "      if r[1] == r[2]:\n",
        "        return mul(2, r[1])\n",
        "      if isinstance(r[2], list) and r[2][0] == \"--\": # unary minus\n",
        "        return simplify(sub(r[1], r[2][1]))\n",
        "\n",
        "    if r[0] == \"-\":\n",
        "      if isinstance(r[1], int) and isinstance(r[2], int):\n",
        "        return r[1] - r[2]\n",
        "      if r[1] == 0: \n",
        "        return neg(r[2])\n",
        "      if r[2] == 0:\n",
        "        return r[1]\n",
        "      if r[1] == r[2]:\n",
        "        return 0\n",
        "      if isinstance(r[2], list) and r[2][0] == \"--\": # unary minus\n",
        "        return simplify(add(r[1], r[2][1]))\n",
        "\n",
        "    if r[0] == \"*\":\n",
        "      if isinstance(r[1], int) and isinstance(r[2], int):\n",
        "        return r[1] * r[2] \n",
        "      if r[1] == 0 or r[2] == 0: \n",
        "        return 0\n",
        "      if r[1] == 1:\n",
        "        return r[2]\n",
        "      if r[2] == 1:\n",
        "        return r[1]\n",
        "      if r[1] == r[2]:\n",
        "        return pow(r[1], 2)\n",
        "\n",
        "    if r[0] == \"/\":\n",
        "      if isinstance(r[1], int) and isinstance(r[2], int):\n",
        "        x = r[1]\n",
        "        y = r[2]\n",
        "        while x!=0 and y!=0:\n",
        "          if x > y:\n",
        "            x = x % y\n",
        "          else:\n",
        "            y = y % x\n",
        "        \n",
        "        r[1] = int(r[1]/(x+y))\n",
        "        r[2] = int(r[2]/(x+y))\n",
        "\n",
        "        return div(r[1],r[2])\n",
        "\n",
        "      if r[1] == 0: \n",
        "        return 0\n",
        "      if r[2] == 0: \n",
        "        return 'infty'\n",
        "      if r[2] == 1:\n",
        "        return r[1]\n",
        "\n",
        "    if r[0] == \"^\":\n",
        "      if isinstance(r[1], int) and isinstance(r[2], int) and r[2] > 0:\n",
        "        return r[1] ** r[2] \n",
        "      if r[2] == 1: \n",
        "        return r[1]\n",
        "\n",
        "    if r[0] == \"sqrt\":\n",
        "      if isinstance(r[1], int):\n",
        "        a = int(math.sqrt(r[1]))\n",
        "        if int(a//1) != 0:\n",
        "\n",
        "        if a * a == r[1]:\n",
        "          return a\n",
        "        return r \n",
        "\n",
        "    return r\n",
        "  return f "
      ],
      "execution_count": null,
      "outputs": []
    },
    {
      "cell_type": "code",
      "metadata": {
        "id": "vPVOblHCKin8"
      },
      "source": [
        "class Expression:\n",
        "  def __init__(self, f):\n",
        "    self.f = f\n",
        "\n",
        "  def __add__(self, x):\n",
        "    x = check(x)\n",
        "    return Expression(add(self.f, x.f))\n",
        "\n",
        "  def __mul__(self, x):\n",
        "    x = check(x)\n",
        "    return Expression(mul(self.f, x.f))\n",
        "\n",
        "  def __truediv__(self, x):\n",
        "    x = check(x)\n",
        "    return Expression(div(self.f, x.f))\n",
        "\n",
        "  def __sub__(self, x):\n",
        "    x = check(x)\n",
        "    return Expression(sub(self.f, x.f))\n",
        "\n",
        "  def __pow__(self, x):\n",
        "    x = check(x)\n",
        "    return Expression(fpow(self.f, x.f))\n",
        "\n",
        "  def __neg__(self):\n",
        "    return Expression(neg(self.f))\n",
        "\n",
        "  def sqrt(self):\n",
        "    return Expression(fsqrt(check(self).f))\n",
        "\n",
        "  def ln(self):\n",
        "    return Expression(fln(check(self).f))  \n",
        "\n",
        "  def lg(self):\n",
        "    return Expression(flg(check(self).f)) \n",
        "\n",
        "  def log(self, x):\n",
        "    x = check(x)\n",
        "    return Expression(flog(self.f, x.f))  \n",
        "\n",
        "  def abs(self):\n",
        "    return Expression(fabs(check(self).f))\n",
        "\n",
        "  def sin(self):\n",
        "    return Expression(fsin(check(self).f)) \n",
        "    \n",
        "  def cos(self):\n",
        "    return Expression(fcos(check(self).f)) \n",
        "\n",
        "  def tan(self):\n",
        "    return Expression(ftan(check(self).f)) \n",
        "\n",
        "  def arcsin(self):\n",
        "    return Expression(farcsin(check(self).f)) \n",
        "\n",
        "  def arccos(self):\n",
        "    return Expression(farccos(check(self).f))\n",
        "\n",
        "  def arctan(self):\n",
        "    return Expression(farctan(check(self).f)) \n",
        "\n",
        "  def sinh(self):\n",
        "    return Expression(fsinh(check(self).f)) \n",
        "\n",
        "  def cosh(self):\n",
        "    return Expression(fcosh(check(self).f)) \n",
        "\n",
        "  def tanh(self):\n",
        "    return Expression(ftanh(check(self).f)) \n",
        "\n",
        "  def exp():\n",
        "    return Expression('e')\n",
        "\n",
        "  def pi():\n",
        "    return Expression('pi')\n",
        "\n",
        "  def evalf(self):\n",
        "    return evaluate(self.f)\n",
        "  \n",
        "  def subs(self, var, val):\n",
        "    return Expression(substitute(self.f, var, val))\n",
        "\n",
        "  def show(self):\n",
        "    display(Math(expr2latex(self.f)))\n",
        "\n",
        "  def isconst(self):\n",
        "    return isconstant(self.f)\n",
        "    \n",
        "  def diff(self, var):\n",
        "    var = check(var).f\n",
        "    return Expression(differentiate(self.f, var))\n",
        "\n",
        "  def simp(self):\n",
        "    return Expression(simplify(self.f))"
      ],
      "execution_count": 13,
      "outputs": []
    },
    {
      "cell_type": "code",
      "metadata": {
        "id": "gh2N_n07Kmf7",
        "outputId": "6f7bd8a7-b45d-48be-fa62-124de505166a",
        "colab": {
          "base_uri": "https://localhost:8080/"
        }
      },
      "source": [
        "x = Expression('x')\n",
        "y = Expression('y')\n",
        "z = (x + y) ** 0.4\n",
        "z.f"
      ],
      "execution_count": 14,
      "outputs": [
        {
          "output_type": "execute_result",
          "data": {
            "text/plain": [
              "['^', ['+', 'x', 'y'], 0.4]"
            ]
          },
          "metadata": {
            "tags": []
          },
          "execution_count": 14
        }
      ]
    },
    {
      "cell_type": "code",
      "metadata": {
        "id": "SAGmFgstKoYv",
        "outputId": "9f23f368-9ed2-47a9-898c-4c9a1dbf3e9b",
        "colab": {
          "base_uri": "https://localhost:8080/"
        }
      },
      "source": [
        "z = x.ln() + y.log(2)\n",
        "z.f"
      ],
      "execution_count": 15,
      "outputs": [
        {
          "output_type": "execute_result",
          "data": {
            "text/plain": [
              "['+', ['ln', 'x'], ['log', 'y', 2]]"
            ]
          },
          "metadata": {
            "tags": []
          },
          "execution_count": 15
        }
      ]
    },
    {
      "cell_type": "code",
      "metadata": {
        "id": "l2mzujVQKqVn",
        "outputId": "8fbd05e1-8104-4b71-9b84-c12ba7d57549",
        "colab": {
          "base_uri": "https://localhost:8080/"
        }
      },
      "source": [
        "z = x.abs()\n",
        "z.f"
      ],
      "execution_count": 16,
      "outputs": [
        {
          "output_type": "execute_result",
          "data": {
            "text/plain": [
              "['abs', 'x']"
            ]
          },
          "metadata": {
            "tags": []
          },
          "execution_count": 16
        }
      ]
    },
    {
      "cell_type": "code",
      "metadata": {
        "id": "svK6gnslKsQV",
        "outputId": "49b47f28-7e18-4548-e3bf-a29b13716c29",
        "colab": {
          "base_uri": "https://localhost:8080/"
        }
      },
      "source": [
        "z = x.sinh()\n",
        "print(z.f)\n",
        "print(Expression.exp())\n",
        "print(Expression.pi())"
      ],
      "execution_count": 17,
      "outputs": [
        {
          "output_type": "stream",
          "text": [
            "['sinh', 'x']\n",
            "<__main__.Expression object at 0x7fee6eecb9d0>\n",
            "<__main__.Expression object at 0x7fee6eecbb50>\n"
          ],
          "name": "stdout"
        }
      ]
    },
    {
      "cell_type": "code",
      "metadata": {
        "id": "m89t-w4TKuT2",
        "outputId": "00aa0d2e-e8ff-4e6d-983b-c9daf3e1a4a0",
        "colab": {
          "base_uri": "https://localhost:8080/"
        }
      },
      "source": [
        "z = Expression.abs(-2) + Expression.abs(-2)\n",
        "print(z.f)\n",
        "z.evalf()"
      ],
      "execution_count": 18,
      "outputs": [
        {
          "output_type": "stream",
          "text": [
            "['+', ['abs', -2], ['abs', -2]]\n"
          ],
          "name": "stdout"
        },
        {
          "output_type": "execute_result",
          "data": {
            "text/plain": [
              "4.0"
            ]
          },
          "metadata": {
            "tags": []
          },
          "execution_count": 18
        }
      ]
    },
    {
      "cell_type": "code",
      "metadata": {
        "id": "NdOH6Gn4KwT1",
        "outputId": "a1638d84-e919-43aa-d2c2-a03d084243f0",
        "colab": {
          "base_uri": "https://localhost:8080/"
        }
      },
      "source": [
        "z = x + Expression(2) * x\n",
        "print(z.f)\n",
        "\n",
        "print(z.subs('x', 3).f)"
      ],
      "execution_count": 19,
      "outputs": [
        {
          "output_type": "stream",
          "text": [
            "['+', 'x', ['*', 2, 'x']]\n",
            "['+', 3, ['*', 2, 3]]\n"
          ],
          "name": "stdout"
        }
      ]
    },
    {
      "cell_type": "code",
      "metadata": {
        "id": "Uo-o3yh7K0BK",
        "outputId": "b160abd7-cf7d-4f52-827a-888afbb36a3c",
        "colab": {
          "base_uri": "https://localhost:8080/",
          "height": 394
        }
      },
      "source": [
        "z = x + y\n",
        "print(z.f)\n",
        "z.show()\n",
        "\n",
        "z = x - y\n",
        "print(z.f)\n",
        "z.show()\n",
        "\n",
        "z = x * y\n",
        "print(z.f)\n",
        "z.show()\n",
        "\n",
        "z = x / y\n",
        "print(z.f)\n",
        "z.show()\n",
        "\n",
        "z = x ** y\n",
        "print(z.f)\n",
        "z.show()\n",
        "\n",
        "z = x.sqrt() + y.sqrt() \n",
        "print(z.f)\n",
        "z.show()\n",
        "\n",
        "z = x.ln() + y.lg() \n",
        "print(z.f)\n",
        "z.show()\n",
        "\n",
        "z = z.abs()\n",
        "print(z.f)\n",
        "z.show()\n",
        "\n",
        "z = x.sin() + y.cos() + x.tan() + y.arcsin() + x.arccos() + y.arctan() + x.sinh() + y.cosh() + x.tanh()\n",
        "print(z.f)\n",
        "z.show()"
      ],
      "execution_count": 20,
      "outputs": [
        {
          "output_type": "stream",
          "text": [
            "['+', 'x', 'y']\n"
          ],
          "name": "stdout"
        },
        {
          "output_type": "display_data",
          "data": {
            "text/latex": "$$x+y$$",
            "text/plain": [
              "<IPython.core.display.Math object>"
            ]
          },
          "metadata": {
            "tags": []
          }
        },
        {
          "output_type": "stream",
          "text": [
            "['-', 'x', 'y']\n"
          ],
          "name": "stdout"
        },
        {
          "output_type": "display_data",
          "data": {
            "text/latex": "$$x-y$$",
            "text/plain": [
              "<IPython.core.display.Math object>"
            ]
          },
          "metadata": {
            "tags": []
          }
        },
        {
          "output_type": "stream",
          "text": [
            "['*', 'x', 'y']\n"
          ],
          "name": "stdout"
        },
        {
          "output_type": "display_data",
          "data": {
            "text/latex": "$$x\\cdot y$$",
            "text/plain": [
              "<IPython.core.display.Math object>"
            ]
          },
          "metadata": {
            "tags": []
          }
        },
        {
          "output_type": "stream",
          "text": [
            "['/', 'x', 'y']\n"
          ],
          "name": "stdout"
        },
        {
          "output_type": "display_data",
          "data": {
            "text/latex": "$$\\dfrac{x}{y}$$",
            "text/plain": [
              "<IPython.core.display.Math object>"
            ]
          },
          "metadata": {
            "tags": []
          }
        },
        {
          "output_type": "stream",
          "text": [
            "['^', 'x', 'y']\n"
          ],
          "name": "stdout"
        },
        {
          "output_type": "display_data",
          "data": {
            "text/latex": "$${x}^{y}$$",
            "text/plain": [
              "<IPython.core.display.Math object>"
            ]
          },
          "metadata": {
            "tags": []
          }
        },
        {
          "output_type": "stream",
          "text": [
            "['+', ['sqrt', 'x'], ['sqrt', 'y']]\n"
          ],
          "name": "stdout"
        },
        {
          "output_type": "display_data",
          "data": {
            "text/latex": "$$\\sqrt{x}+\\sqrt{y}$$",
            "text/plain": [
              "<IPython.core.display.Math object>"
            ]
          },
          "metadata": {
            "tags": []
          }
        },
        {
          "output_type": "stream",
          "text": [
            "['+', ['ln', 'x'], ['lg', 'y']]\n"
          ],
          "name": "stdout"
        },
        {
          "output_type": "display_data",
          "data": {
            "text/latex": "$$\\ln{x}+\\lg{y}$$",
            "text/plain": [
              "<IPython.core.display.Math object>"
            ]
          },
          "metadata": {
            "tags": []
          }
        },
        {
          "output_type": "stream",
          "text": [
            "['abs', ['+', ['ln', 'x'], ['lg', 'y']]]\n"
          ],
          "name": "stdout"
        },
        {
          "output_type": "display_data",
          "data": {
            "text/latex": "$$\\lvert{\\ln{x}+\\lg{y}}\\rvert$$",
            "text/plain": [
              "<IPython.core.display.Math object>"
            ]
          },
          "metadata": {
            "tags": []
          }
        },
        {
          "output_type": "stream",
          "text": [
            "['+', ['+', ['+', ['+', ['+', ['+', ['+', ['+', ['sin', 'x'], ['cos', 'y']], ['tan', 'x']], ['arcsin', 'y']], ['arccos', 'x']], ['arctan', 'y']], ['sinh', 'x']], ['cosh', 'y']], ['tanh', 'x']]\n"
          ],
          "name": "stdout"
        },
        {
          "output_type": "display_data",
          "data": {
            "text/latex": "$$\\sin{x}+\\cos{y}+\\tan{x}+\\arcsin{y}+\\arccos{x}+\\arctan{y}+\\sinh{x}+\\cosh{y}+\\tanh{x}$$",
            "text/plain": [
              "<IPython.core.display.Math object>"
            ]
          },
          "metadata": {
            "tags": []
          }
        }
      ]
    },
    {
      "cell_type": "code",
      "metadata": {
        "id": "mH9NFXTxK2td",
        "outputId": "f4b928d9-d90e-485b-f48f-b857e3fc024c",
        "colab": {
          "base_uri": "https://localhost:8080/"
        }
      },
      "source": [
        "z = Expression(2) + Expression(2) * Expression(2)\n",
        "print(z.f)\n",
        "z.isconst()"
      ],
      "execution_count": 21,
      "outputs": [
        {
          "output_type": "stream",
          "text": [
            "['+', 2, ['*', 2, 2]]\n"
          ],
          "name": "stdout"
        },
        {
          "output_type": "execute_result",
          "data": {
            "text/plain": [
              "True"
            ]
          },
          "metadata": {
            "tags": []
          },
          "execution_count": 21
        }
      ]
    },
    {
      "cell_type": "code",
      "metadata": {
        "id": "LfcsHcvoK45m",
        "outputId": "81b26144-14a4-485e-f371-160aea79387e",
        "colab": {
          "base_uri": "https://localhost:8080/",
          "height": 55
        }
      },
      "source": [
        "z = x * Expression.exp()**2\n",
        "print(z.f)\n",
        "z.show()"
      ],
      "execution_count": 22,
      "outputs": [
        {
          "output_type": "stream",
          "text": [
            "['*', 'x', ['^', 'e', 2]]\n"
          ],
          "name": "stdout"
        },
        {
          "output_type": "display_data",
          "data": {
            "text/latex": "$$x\\cdot {e}^{2}$$",
            "text/plain": [
              "<IPython.core.display.Math object>"
            ]
          },
          "metadata": {
            "tags": []
          }
        }
      ]
    },
    {
      "cell_type": "code",
      "metadata": {
        "id": "8BW5SXDIK7qN",
        "outputId": "18f3a89b-d16b-4732-d452-fa42f2796267",
        "colab": {
          "base_uri": "https://localhost:8080/",
          "height": 113
        }
      },
      "source": [
        "z = x.tanh()\n",
        "print(z.f)\n",
        "z.show()\n",
        "print(differentiate(z.f, x))\n",
        "Expression(differentiate(z.f, 'x')).show()"
      ],
      "execution_count": 23,
      "outputs": [
        {
          "output_type": "stream",
          "text": [
            "['tanh', 'x']\n"
          ],
          "name": "stdout"
        },
        {
          "output_type": "display_data",
          "data": {
            "text/latex": "$$\\tanh{x}$$",
            "text/plain": [
              "<IPython.core.display.Math object>"
            ]
          },
          "metadata": {
            "tags": []
          }
        },
        {
          "output_type": "stream",
          "text": [
            "['*', ['/', 1, ['^', ['cosh', 'x'], 2]], 0]\n"
          ],
          "name": "stdout"
        },
        {
          "output_type": "display_data",
          "data": {
            "text/latex": "$$\\dfrac{1}{{\\left(\\cosh{x}\\right)}^{2}}\\cdot 1$$",
            "text/plain": [
              "<IPython.core.display.Math object>"
            ]
          },
          "metadata": {
            "tags": []
          }
        }
      ]
    },
    {
      "cell_type": "code",
      "metadata": {
        "id": "VAI-Acz2K-SJ",
        "outputId": "e4426e43-e0ee-4355-d4c2-479f59b2906f",
        "colab": {
          "base_uri": "https://localhost:8080/",
          "height": 733
        }
      },
      "source": [
        "z = x + y\n",
        "print(z.f)\n",
        "z.show()\n",
        "print(z.diff(x).f)\n",
        "z.diff(x).show()\n",
        "\n",
        "z = x - y\n",
        "print(z.f)\n",
        "z.show()\n",
        "print(z.diff(x).f)\n",
        "z.diff(x).show()\n",
        "\n",
        "z = x * y\n",
        "print(z.f)\n",
        "z.show()\n",
        "print(z.diff(x).f)\n",
        "z.diff(x).show()\n",
        "\n",
        "z = x / y\n",
        "print(z.f)\n",
        "z.show()\n",
        "print(z.diff(x).f)\n",
        "z.diff(x).show()\n",
        "\n",
        "z = x ** y\n",
        "print(z.f)\n",
        "z.show()\n",
        "print(z.diff(x).f)\n",
        "z.diff(x).show()\n",
        "\n",
        "z = x.sqrt() + y.sqrt() \n",
        "print(z.f)\n",
        "z.show()\n",
        "print(z.diff(x).f)\n",
        "z.diff(x).show()\n",
        "\n",
        "z = x.ln() + y.lg() \n",
        "print(z.f)\n",
        "z.show()\n",
        "print(z.diff(x).f)\n",
        "z.diff(x).show()\n",
        "\n",
        "z = x.sin() + y.cos() + x.tan() + y.arcsin() + x.arccos() + y.arctan() + x.sinh() + y.cosh() + x.tanh()\n",
        "print(z.f)\n",
        "z.show()\n",
        "print(z.diff(x).f)\n",
        "z.diff(x).show()"
      ],
      "execution_count": 24,
      "outputs": [
        {
          "output_type": "stream",
          "text": [
            "['+', 'x', 'y']\n"
          ],
          "name": "stdout"
        },
        {
          "output_type": "display_data",
          "data": {
            "text/latex": "$$x+y$$",
            "text/plain": [
              "<IPython.core.display.Math object>"
            ]
          },
          "metadata": {
            "tags": []
          }
        },
        {
          "output_type": "stream",
          "text": [
            "['+', 1, 0]\n"
          ],
          "name": "stdout"
        },
        {
          "output_type": "display_data",
          "data": {
            "text/latex": "$$1+0$$",
            "text/plain": [
              "<IPython.core.display.Math object>"
            ]
          },
          "metadata": {
            "tags": []
          }
        },
        {
          "output_type": "stream",
          "text": [
            "['-', 'x', 'y']\n"
          ],
          "name": "stdout"
        },
        {
          "output_type": "display_data",
          "data": {
            "text/latex": "$$x-y$$",
            "text/plain": [
              "<IPython.core.display.Math object>"
            ]
          },
          "metadata": {
            "tags": []
          }
        },
        {
          "output_type": "stream",
          "text": [
            "['-', 1, 0]\n"
          ],
          "name": "stdout"
        },
        {
          "output_type": "display_data",
          "data": {
            "text/latex": "$$1-0$$",
            "text/plain": [
              "<IPython.core.display.Math object>"
            ]
          },
          "metadata": {
            "tags": []
          }
        },
        {
          "output_type": "stream",
          "text": [
            "['*', 'x', 'y']\n"
          ],
          "name": "stdout"
        },
        {
          "output_type": "display_data",
          "data": {
            "text/latex": "$$x\\cdot y$$",
            "text/plain": [
              "<IPython.core.display.Math object>"
            ]
          },
          "metadata": {
            "tags": []
          }
        },
        {
          "output_type": "stream",
          "text": [
            "['+', ['*', 1, 'y'], ['*', 'x', 0]]\n"
          ],
          "name": "stdout"
        },
        {
          "output_type": "display_data",
          "data": {
            "text/latex": "$$1\\cdot y+x\\cdot 0$$",
            "text/plain": [
              "<IPython.core.display.Math object>"
            ]
          },
          "metadata": {
            "tags": []
          }
        },
        {
          "output_type": "stream",
          "text": [
            "['/', 'x', 'y']\n"
          ],
          "name": "stdout"
        },
        {
          "output_type": "display_data",
          "data": {
            "text/latex": "$$\\dfrac{x}{y}$$",
            "text/plain": [
              "<IPython.core.display.Math object>"
            ]
          },
          "metadata": {
            "tags": []
          }
        },
        {
          "output_type": "stream",
          "text": [
            "['/', ['-', ['*', 1, 'y'], ['*', 'x', 0]], ['^', 'y', 2]]\n"
          ],
          "name": "stdout"
        },
        {
          "output_type": "display_data",
          "data": {
            "text/latex": "$$\\dfrac{1\\cdot y-x\\cdot 0}{{y}^{2}}$$",
            "text/plain": [
              "<IPython.core.display.Math object>"
            ]
          },
          "metadata": {
            "tags": []
          }
        },
        {
          "output_type": "stream",
          "text": [
            "['^', 'x', 'y']\n"
          ],
          "name": "stdout"
        },
        {
          "output_type": "display_data",
          "data": {
            "text/latex": "$${x}^{y}$$",
            "text/plain": [
              "<IPython.core.display.Math object>"
            ]
          },
          "metadata": {
            "tags": []
          }
        },
        {
          "output_type": "stream",
          "text": [
            "['+', ['*', ['^', 'x', 'y'], ['*', 0, ['ln', 'x']]], ['*', 'y', ['*', ['^', 'x', ['-', 'y', 1]], 1]]]\n"
          ],
          "name": "stdout"
        },
        {
          "output_type": "display_data",
          "data": {
            "text/latex": "$${x}^{y}\\cdot 0\\cdot \\ln{x}+y\\cdot {x}^{y-1}\\cdot 1$$",
            "text/plain": [
              "<IPython.core.display.Math object>"
            ]
          },
          "metadata": {
            "tags": []
          }
        },
        {
          "output_type": "stream",
          "text": [
            "['+', ['sqrt', 'x'], ['sqrt', 'y']]\n"
          ],
          "name": "stdout"
        },
        {
          "output_type": "display_data",
          "data": {
            "text/latex": "$$\\sqrt{x}+\\sqrt{y}$$",
            "text/plain": [
              "<IPython.core.display.Math object>"
            ]
          },
          "metadata": {
            "tags": []
          }
        },
        {
          "output_type": "stream",
          "text": [
            "['+', ['/', 1, ['*', 2, ['sqrt', 'x']]], ['/', 0, ['*', 2, ['sqrt', 'y']]]]\n"
          ],
          "name": "stdout"
        },
        {
          "output_type": "display_data",
          "data": {
            "text/latex": "$$\\dfrac{1}{2\\cdot \\sqrt{x}}+\\dfrac{0}{2\\cdot \\sqrt{y}}$$",
            "text/plain": [
              "<IPython.core.display.Math object>"
            ]
          },
          "metadata": {
            "tags": []
          }
        },
        {
          "output_type": "stream",
          "text": [
            "['+', ['ln', 'x'], ['lg', 'y']]\n"
          ],
          "name": "stdout"
        },
        {
          "output_type": "display_data",
          "data": {
            "text/latex": "$$\\ln{x}+\\lg{y}$$",
            "text/plain": [
              "<IPython.core.display.Math object>"
            ]
          },
          "metadata": {
            "tags": []
          }
        },
        {
          "output_type": "stream",
          "text": [
            "['+', ['/', 1, 'x'], ['/', 0, ['*', 'y', ['ln', 10]]]]\n"
          ],
          "name": "stdout"
        },
        {
          "output_type": "display_data",
          "data": {
            "text/latex": "$$\\dfrac{1}{x}+\\dfrac{0}{y\\cdot \\ln{10}}$$",
            "text/plain": [
              "<IPython.core.display.Math object>"
            ]
          },
          "metadata": {
            "tags": []
          }
        },
        {
          "output_type": "stream",
          "text": [
            "['+', ['+', ['+', ['+', ['+', ['+', ['+', ['+', ['sin', 'x'], ['cos', 'y']], ['tan', 'x']], ['arcsin', 'y']], ['arccos', 'x']], ['arctan', 'y']], ['sinh', 'x']], ['cosh', 'y']], ['tanh', 'x']]\n"
          ],
          "name": "stdout"
        },
        {
          "output_type": "display_data",
          "data": {
            "text/latex": "$$\\sin{x}+\\cos{y}+\\tan{x}+\\arcsin{y}+\\arccos{x}+\\arctan{y}+\\sinh{x}+\\cosh{y}+\\tanh{x}$$",
            "text/plain": [
              "<IPython.core.display.Math object>"
            ]
          },
          "metadata": {
            "tags": []
          }
        },
        {
          "output_type": "stream",
          "text": [
            "['+', ['+', ['+', ['+', ['+', ['+', ['+', ['+', ['*', ['cos', 'x'], 1], ['*', ['--', ['sin', 'y']], 0]], ['*', ['/', 1, ['^', ['cos', 'x'], 2]], 1]], ['*', ['/', 1, ['sqrt', ['-', 1, ['^', 'y', 2]]]], 0]], ['--', ['*', ['/', 1, ['sqrt', ['-', 1, ['^', 'x', 2]]]], 1]]], ['*', ['/', 1, ['+', 1, ['^', 'y', 2]]], 0]], ['*', ['cosh', 'x'], 1]], ['*', ['sinh', 'y'], 0]], ['*', ['/', 1, ['^', ['cosh', 'x'], 2]], 1]]\n"
          ],
          "name": "stdout"
        },
        {
          "output_type": "display_data",
          "data": {
            "text/latex": "$$\\cos{x}\\cdot 1+-{\\left(\\sin{y}\\right)}\\cdot 0+\\dfrac{1}{{\\left(\\cos{x}\\right)}^{2}}\\cdot 1+\\dfrac{1}{\\sqrt{1-{y}^{2}}}\\cdot 0+-{\\left(\\dfrac{1}{\\sqrt{1-{x}^{2}}}\\cdot 1\\right)}+\\dfrac{1}{1+{y}^{2}}\\cdot 0+\\cosh{x}\\cdot 1+\\sinh{y}\\cdot 0+\\dfrac{1}{{\\left(\\cosh{x}\\right)}^{2}}\\cdot 1$$",
            "text/plain": [
              "<IPython.core.display.Math object>"
            ]
          },
          "metadata": {
            "tags": []
          }
        }
      ]
    },
    {
      "cell_type": "code",
      "metadata": {
        "id": "mpa-qbcdK_lW",
        "outputId": "ce348136-eac7-4c39-c77a-ee64ee560b9c",
        "colab": {
          "base_uri": "https://localhost:8080/",
          "height": 94
        }
      },
      "source": [
        "z = y ** x\n",
        "print(z.f)\n",
        "z.show()\n",
        "print(z.diff(x).f)\n",
        "z.diff(x).show()"
      ],
      "execution_count": 25,
      "outputs": [
        {
          "output_type": "stream",
          "text": [
            "['^', 'y', 'x']\n"
          ],
          "name": "stdout"
        },
        {
          "output_type": "display_data",
          "data": {
            "text/latex": "$${y}^{x}$$",
            "text/plain": [
              "<IPython.core.display.Math object>"
            ]
          },
          "metadata": {
            "tags": []
          }
        },
        {
          "output_type": "stream",
          "text": [
            "['+', ['*', ['^', 'y', 'x'], ['*', 1, ['ln', 'y']]], ['*', 'x', ['*', ['^', 'y', ['-', 'x', 1]], 0]]]\n"
          ],
          "name": "stdout"
        },
        {
          "output_type": "display_data",
          "data": {
            "text/latex": "$${y}^{x}\\cdot 1\\cdot \\ln{y}+x\\cdot {y}^{x-1}\\cdot 0$$",
            "text/plain": [
              "<IPython.core.display.Math object>"
            ]
          },
          "metadata": {
            "tags": []
          }
        }
      ]
    },
    {
      "cell_type": "code",
      "metadata": {
        "id": "pcSJ9f1jLCM4"
      },
      "source": [
        "z = (x / (x + 2)).diff(x)\n",
        "z.show()\n",
        "z.simp().show()"
      ],
      "execution_count": null,
      "outputs": []
    },
    {
      "cell_type": "code",
      "metadata": {
        "id": "rpeAsX-OLXTd"
      },
      "source": [
        "z = Expression(5)/Expression(16)\n",
        "z.show()\n",
        "z.simp().show()"
      ],
      "execution_count": null,
      "outputs": []
    },
    {
      "cell_type": "code",
      "metadata": {
        "id": "mpWHY0UzLbaI",
        "outputId": "c7caf5f7-2552-43ff-af79-2eb81e4f0935",
        "colab": {
          "base_uri": "https://localhost:8080/"
        }
      },
      "source": [
        "int(math.sqrt(1)//1)"
      ],
      "execution_count": 29,
      "outputs": [
        {
          "output_type": "execute_result",
          "data": {
            "text/plain": [
              "1"
            ]
          },
          "metadata": {
            "tags": []
          },
          "execution_count": 29
        }
      ]
    },
    {
      "cell_type": "code",
      "metadata": {
        "id": "ZuZ_1hSeLcKx",
        "outputId": "57143ed7-137a-49ba-9d29-e58a66471198",
        "colab": {
          "base_uri": "https://localhost:8080/"
        }
      },
      "source": [
        "math.sqrt(5)"
      ],
      "execution_count": 30,
      "outputs": [
        {
          "output_type": "execute_result",
          "data": {
            "text/plain": [
              "2.23606797749979"
            ]
          },
          "metadata": {
            "tags": []
          },
          "execution_count": 30
        }
      ]
    },
    {
      "cell_type": "code",
      "metadata": {
        "id": "yOeLKLrxLeP6"
      },
      "source": [
        "Factor(288*288 * 5)"
      ],
      "execution_count": null,
      "outputs": []
    },
    {
      "cell_type": "code",
      "metadata": {
        "id": "sHOqy1EkLhKr"
      },
      "source": [
        "from collections import Counter\n",
        "\n",
        "def Max_Factor(n):\n",
        "  l = Factor(n)\n",
        "  new = []\n",
        "  c = Counter(l)\n",
        "  for i in set(l):\n",
        "    p = c[i]\n",
        "    if c[i]%2 != 0:\n",
        "      new.append(i)\n",
        "      p-=1\n",
        "    if p != 0:\n",
        "      new.append(i**p)\n",
        "  new.sort()\n",
        "  return new"
      ],
      "execution_count": 32,
      "outputs": []
    }
  ]
}