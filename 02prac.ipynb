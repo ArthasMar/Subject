{
  "nbformat": 4,
  "nbformat_minor": 0,
  "metadata": {
    "colab": {
      "name": "Welcome To Colaboratory",
      "provenance": [],
      "collapsed_sections": [],
      "toc_visible": true,
      "include_colab_link": true
    },
    "kernelspec": {
      "display_name": "Python 3",
      "name": "python3"
    }
  },
  "cells": [
    {
      "cell_type": "markdown",
      "metadata": {
        "id": "view-in-github",
        "colab_type": "text"
      },
      "source": [
        "<a href=\"https://colab.research.google.com/github/ArthasMar/Subject/blob/main/02prac.ipynb\" target=\"_parent\"><img src=\"https://colab.research.google.com/assets/colab-badge.svg\" alt=\"Open In Colab\"/></a>"
      ]
    },
    {
      "cell_type": "code",
      "metadata": {
        "id": "GcqfH13d2i1l"
      },
      "source": [
        "import matplotlib\n",
        "import matplotlib.pyplot as plt\n",
        "from IPython.display import display, Math\n",
        "\n",
        "def plot(pol, a, b):\n",
        "  n = 1300\n",
        "  dx = (b - a) / n\n",
        "  X, Y = [], []\n",
        "  for i in range(n + 1):\n",
        "    x = a + dx * i\n",
        "    y = pol.evalf(x)\n",
        "    X.append(x)\n",
        "    Y.append(y)\n",
        "  \n",
        "  fig, ax = plt.subplots(figsize=(12, 9))\n",
        "  ax.plot(X, Y, color=\"red\", lw=5)\n",
        "  plt.show()\n",
        "\n",
        "\n",
        "\n",
        "class Polynimial:\n",
        "    def __init__(self,array=[]):\n",
        "        self.array=array\n",
        "    def __str__ (self):\n",
        "        s=\" \"\n",
        "        for i in range(len(self.array)-1,1,-1):\n",
        "            if (self.array[i]>1 or self.array[i]<1) and self.array[i]!=0:\n",
        "                s+=str(self.array[i])+\"*x^\"+str(i)\n",
        "            elif self.array[i]==1:\n",
        "                s+=\"x^\"+ str(i)\n",
        "            if self.array[i-1]>0 and self.array[i]!=0:\n",
        "                s+=\"+\"\n",
        "        if self.array[1]!=0 and self.array[1]!=1:\n",
        "            s+=str(self.array[1])+\"*x\"\n",
        "        elif self.array[1]==1:\n",
        "            s+=\"x\"\n",
        "        if self.array[0]>0:\n",
        "            s+=\"+\" + str(self.array[0])\n",
        "        elif self.array[0]<0:\n",
        "            s+=\"-\" + str(abs(self.array[0]))\n",
        "        return s\n",
        "    def __add__(self, p):\n",
        "        a = self.array\n",
        "        b = p.array\n",
        "        if len(a) < len(b):\n",
        "            a += [0] * (len(b) - len(a))\n",
        "        else:\n",
        "            b += [0] * (len(a) - len(b))\n",
        "        return Polynimial([a[i] + b[i] for i in range(len(a))])\n",
        "    def __sub__(self, p):\n",
        "        a = self.array\n",
        "        b = p.array\n",
        "        if len(a) < len(b):\n",
        "            a += [0] * (len(b) - len(a))\n",
        "        else:\n",
        "            b += [0] * (len(a) - len(b))\n",
        "        return Polynimial([a[i] - b[i] for i in range(len(a))])\n",
        "    def diff(self):\n",
        "        b=[]\n",
        "        for i in range (1,len(self.array)):\n",
        "            b.append(self.array[i]*i)\n",
        "        return Polynimial(b)\n",
        "    def toLatex(self):\n",
        "        s = \" \"\n",
        "        for i in range(len(self.array)-1,1,-1):\n",
        "            if (self.array[i]>1 or self.array[i]<1) and self.array[i]!=0:\n",
        "                s+=str(self.array[i])+\"x^\"+str(i)\n",
        "            elif self.array[i]==1:\n",
        "                 s+=\"x^\"+ str(i)\n",
        "            if self.array[i-1]>0 and self.array[i]!=0:\n",
        "                 s+=\"+\"\n",
        "        if self.array[1]!=0 and self.array[1]!=1:\n",
        "             s+=str(self.array[1])+\"x\"\n",
        "        elif self.array[1]==1:\n",
        "             s+=\"x\"\n",
        "        if self.array[0]>0:\n",
        "             s+=\"+\" + str(self.array[0])\n",
        "        elif self.array[0]<0:\n",
        "             s+=\"-\" + str(abs(self.array[0]))\n",
        "        display(Math(s))\n",
        "    def show(self):\n",
        "        display(Math(str(self)))\n",
        "    def evalf(self,count):\n",
        "        z=0\n",
        "        for i in range(len(self.array)-1,0,-1):\n",
        "             z+=self.array[i]*(count**i)\n",
        "        z+=self.array[0]\n",
        "        return z"
      ],
      "execution_count": 10,
      "outputs": []
    },
    {
      "cell_type": "code",
      "metadata": {
        "id": "is8ronmd2mt_",
        "outputId": "f8859797-ed1c-447d-aba6-d8f91ed86a47",
        "colab": {
          "base_uri": "https://localhost:8080/",
          "height": 608
        }
      },
      "source": [
        "p=Polynimial([1,2,3,4,5,6,7])\n",
        "p.toLatex()\n",
        "p.show()\n",
        "\n",
        "print(Polynimial.evalf(p,2))\n",
        "\n",
        "plot(p, -20, 20)"
      ],
      "execution_count": 11,
      "outputs": [
        {
          "output_type": "display_data",
          "data": {
            "text/latex": "$$ 7x^6+6x^5+5x^4+4x^3+3x^2+2x+1$$",
            "text/plain": [
              "<IPython.core.display.Math object>"
            ]
          },
          "metadata": {
            "tags": []
          }
        },
        {
          "output_type": "display_data",
          "data": {
            "text/latex": "$$ 7*x^6+6*x^5+5*x^4+4*x^3+3*x^2+2*x+1$$",
            "text/plain": [
              "<IPython.core.display.Math object>"
            ]
          },
          "metadata": {
            "tags": []
          }
        },
        {
          "output_type": "stream",
          "text": [
            "769\n"
          ],
          "name": "stdout"
        },
        {
          "output_type": "display_data",
          "data": {
            "image/png": "[encoded data removed]",
            "text/plain": [
              "<Figure size 864x648 with 1 Axes>"
            ]
          },
          "metadata": {
            "tags": [],
            "needs_background": "light"
          }
        }
      ]
    }
  ]
}